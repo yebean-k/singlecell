{
 "cells": [
  {
   "cell_type": "code",
   "execution_count": 2,
   "metadata": {
    "scrolled": false
   },
   "outputs": [],
   "source": [
    "library(dplyr)\n",
    "library(Seurat)\n",
    "library(patchwork)\n",
    "library(ggplot2)"
   ]
  },
  {
   "cell_type": "markdown",
   "metadata": {},
   "source": [
    "# Setup the Seurat object"
   ]
  },
  {
   "cell_type": "code",
   "execution_count": 3,
   "metadata": {},
   "outputs": [],
   "source": [
    "inf <- list('GSE134809_69', 'GSE134809_128', 'GSE134809_138', 'GSE134809_158', 'GSE134809_181', 'GSE134809_187', \n",
    "            'GSE134809_190', 'GSE134809_193', 'GSE134809_196')\n",
    "uninf <- list('GSE134809_68', 'GSE134809_129', 'GSE134809_135', 'GSE134809_159', 'GSE134809_180', 'GSE134809_186', \n",
    "              'GSE134809_189', 'GSE134809_192', 'GSE134809_195')"
   ]
  },
  {
   "cell_type": "code",
   "execution_count": 4,
   "metadata": {},
   "outputs": [
    {
     "name": "stderr",
     "output_type": "stream",
     "text": [
      "Warning message:\n",
      "“Feature names cannot have underscores ('_'), replacing with dashes ('-')”\n",
      "Warning message:\n",
      "“Feature names cannot have underscores ('_'), replacing with dashes ('-')”\n",
      "Warning message:\n",
      "“Feature names cannot have underscores ('_'), replacing with dashes ('-')”\n",
      "Warning message:\n",
      "“Feature names cannot have underscores ('_'), replacing with dashes ('-')”\n",
      "Warning message:\n",
      "“Feature names cannot have underscores ('_'), replacing with dashes ('-')”\n",
      "Warning message:\n",
      "“Feature names cannot have underscores ('_'), replacing with dashes ('-')”\n",
      "Warning message:\n",
      "“Feature names cannot have underscores ('_'), replacing with dashes ('-')”\n",
      "Warning message:\n",
      "“Feature names cannot have underscores ('_'), replacing with dashes ('-')”\n",
      "Warning message:\n",
      "“Feature names cannot have underscores ('_'), replacing with dashes ('-')”\n"
     ]
    }
   ],
   "source": [
    "for(x in inf) {\n",
    "    dir <- paste(\"/data/yebin/singlecell/\", x, \"/\", sep=\"\")\n",
    "    name <- paste(x, \".data\" , sep=\"\")\n",
    "    assign(name, Read10X(data.dir = dir)) \n",
    "    assign(x, CreateSeuratObject(counts = eval(parse(text = name)), project = x, min.cells = 3, min.features = 200)) \n",
    "}"
   ]
  },
  {
   "cell_type": "code",
   "execution_count": 6,
   "metadata": {},
   "outputs": [],
   "source": [
    "inf_data <- merge(eval(parse(text = inf[1])), y = c(eval(parse(text = inf[2])),\n",
    "                                                       eval(parse(text = inf[3])),\n",
    "                                                       eval(parse(text = inf[4])),\n",
    "                                                       eval(parse(text = inf[5])),\n",
    "                                                       eval(parse(text = inf[6])),\n",
    "                                                       eval(parse(text = inf[7])),\n",
    "                                                       eval(parse(text = inf[8])),\n",
    "                                                   eval(parse(text = inf[9]))), \n",
    "                      add.cell.ids = c(inf), project = \"inflamed\", merge.data = TRUE)"
   ]
  },
  {
   "cell_type": "code",
   "execution_count": 7,
   "metadata": {},
   "outputs": [
    {
     "name": "stderr",
     "output_type": "stream",
     "text": [
      "Warning message:\n",
      "“Feature names cannot have underscores ('_'), replacing with dashes ('-')”\n",
      "Warning message:\n",
      "“Feature names cannot have underscores ('_'), replacing with dashes ('-')”\n",
      "Warning message:\n",
      "“Feature names cannot have underscores ('_'), replacing with dashes ('-')”\n",
      "Warning message:\n",
      "“Feature names cannot have underscores ('_'), replacing with dashes ('-')”\n",
      "Warning message:\n",
      "“Feature names cannot have underscores ('_'), replacing with dashes ('-')”\n",
      "Warning message:\n",
      "“Feature names cannot have underscores ('_'), replacing with dashes ('-')”\n",
      "Warning message:\n",
      "“Feature names cannot have underscores ('_'), replacing with dashes ('-')”\n",
      "Warning message:\n",
      "“Feature names cannot have underscores ('_'), replacing with dashes ('-')”\n",
      "Warning message:\n",
      "“Feature names cannot have underscores ('_'), replacing with dashes ('-')”\n"
     ]
    }
   ],
   "source": [
    "for(x in uninf) {\n",
    "    dir <- paste(\"/data/yebin/singlecell/\", x, \"/\", sep=\"\")\n",
    "    name <- paste(x, \".data\" , sep=\"\")\n",
    "    assign(name, Read10X(data.dir = dir)) \n",
    "    assign(x, CreateSeuratObject(counts = eval(parse(text = name)), project = x, min.cells = 3, min.features = 200)) \n",
    "}"
   ]
  },
  {
   "cell_type": "code",
   "execution_count": 8,
   "metadata": {},
   "outputs": [],
   "source": [
    "uninf_data <- merge(eval(parse(text = uninf[1])), y = c(eval(parse(text = uninf[2])),\n",
    "                                                       eval(parse(text = uninf[3])),\n",
    "                                                       eval(parse(text = uninf[4])),\n",
    "                                                       eval(parse(text = uninf[5])),\n",
    "                                                       eval(parse(text = uninf[6])),\n",
    "                                                       eval(parse(text = uninf[7])),\n",
    "                                                       eval(parse(text = uninf[8])),\n",
    "                                                       eval(parse(text = uninf[9]))), \n",
    "                      add.cell.ids = c(uninf), project = \"uninflamed\", merge.data = TRUE)"
   ]
  },
  {
   "cell_type": "code",
   "execution_count": 9,
   "metadata": {},
   "outputs": [
    {
     "data": {
      "text/plain": [
       "An object of class Seurat \n",
       "21455 features across 51426 samples within 1 assay \n",
       "Active assay: RNA (21455 features, 0 variable features)"
      ]
     },
     "metadata": {},
     "output_type": "display_data"
    }
   ],
   "source": [
    "inf_data"
   ]
  },
  {
   "cell_type": "code",
   "execution_count": 10,
   "metadata": {},
   "outputs": [
    {
     "data": {
      "text/plain": [
       "An object of class Seurat \n",
       "21506 features across 54886 samples within 1 assay \n",
       "Active assay: RNA (21506 features, 0 variable features)"
      ]
     },
     "metadata": {},
     "output_type": "display_data"
    }
   ],
   "source": [
    "uninf_data"
   ]
  },
  {
   "cell_type": "markdown",
   "metadata": {},
   "source": [
    "# QC"
   ]
  },
  {
   "cell_type": "markdown",
   "metadata": {},
   "source": [
    "### percentage calculation"
   ]
  },
  {
   "cell_type": "code",
   "execution_count": 11,
   "metadata": {},
   "outputs": [
    {
     "data": {
      "text/html": [
       "<table>\n",
       "<caption>A data.frame: 5 × 4</caption>\n",
       "<thead>\n",
       "\t<tr><th></th><th scope=col>orig.ident</th><th scope=col>nCount_RNA</th><th scope=col>nFeature_RNA</th><th scope=col>percent.mt</th></tr>\n",
       "\t<tr><th></th><th scope=col>&lt;chr&gt;</th><th scope=col>&lt;dbl&gt;</th><th scope=col>&lt;int&gt;</th><th scope=col>&lt;dbl&gt;</th></tr>\n",
       "</thead>\n",
       "<tbody>\n",
       "\t<tr><th scope=row>GSE134809_68_AAACATACACCCTC-1</th><td>GSE134809_68</td><td> 659</td><td>268</td><td>0.7587253</td></tr>\n",
       "\t<tr><th scope=row>GSE134809_68_AAACATACAGACTC-1</th><td>GSE134809_68</td><td> 717</td><td>288</td><td>1.6736402</td></tr>\n",
       "\t<tr><th scope=row>GSE134809_68_AAACATACCAACTG-1</th><td>GSE134809_68</td><td>2124</td><td>537</td><td>2.7306968</td></tr>\n",
       "\t<tr><th scope=row>GSE134809_68_AAACATACCCAACA-1</th><td>GSE134809_68</td><td> 713</td><td>356</td><td>3.0855540</td></tr>\n",
       "\t<tr><th scope=row>GSE134809_68_AAACATACCGTCTC-1</th><td>GSE134809_68</td><td> 544</td><td>290</td><td>3.8602941</td></tr>\n",
       "</tbody>\n",
       "</table>\n"
      ],
      "text/latex": [
       "A data.frame: 5 × 4\n",
       "\\begin{tabular}{r|llll}\n",
       "  & orig.ident & nCount\\_RNA & nFeature\\_RNA & percent.mt\\\\\n",
       "  & <chr> & <dbl> & <int> & <dbl>\\\\\n",
       "\\hline\n",
       "\tGSE134809\\_68\\_AAACATACACCCTC-1 & GSE134809\\_68 &  659 & 268 & 0.7587253\\\\\n",
       "\tGSE134809\\_68\\_AAACATACAGACTC-1 & GSE134809\\_68 &  717 & 288 & 1.6736402\\\\\n",
       "\tGSE134809\\_68\\_AAACATACCAACTG-1 & GSE134809\\_68 & 2124 & 537 & 2.7306968\\\\\n",
       "\tGSE134809\\_68\\_AAACATACCCAACA-1 & GSE134809\\_68 &  713 & 356 & 3.0855540\\\\\n",
       "\tGSE134809\\_68\\_AAACATACCGTCTC-1 & GSE134809\\_68 &  544 & 290 & 3.8602941\\\\\n",
       "\\end{tabular}\n"
      ],
      "text/markdown": [
       "\n",
       "A data.frame: 5 × 4\n",
       "\n",
       "| <!--/--> | orig.ident &lt;chr&gt; | nCount_RNA &lt;dbl&gt; | nFeature_RNA &lt;int&gt; | percent.mt &lt;dbl&gt; |\n",
       "|---|---|---|---|---|\n",
       "| GSE134809_68_AAACATACACCCTC-1 | GSE134809_68 |  659 | 268 | 0.7587253 |\n",
       "| GSE134809_68_AAACATACAGACTC-1 | GSE134809_68 |  717 | 288 | 1.6736402 |\n",
       "| GSE134809_68_AAACATACCAACTG-1 | GSE134809_68 | 2124 | 537 | 2.7306968 |\n",
       "| GSE134809_68_AAACATACCCAACA-1 | GSE134809_68 |  713 | 356 | 3.0855540 |\n",
       "| GSE134809_68_AAACATACCGTCTC-1 | GSE134809_68 |  544 | 290 | 3.8602941 |\n",
       "\n"
      ],
      "text/plain": [
       "                              orig.ident   nCount_RNA nFeature_RNA percent.mt\n",
       "GSE134809_68_AAACATACACCCTC-1 GSE134809_68  659       268          0.7587253 \n",
       "GSE134809_68_AAACATACAGACTC-1 GSE134809_68  717       288          1.6736402 \n",
       "GSE134809_68_AAACATACCAACTG-1 GSE134809_68 2124       537          2.7306968 \n",
       "GSE134809_68_AAACATACCCAACA-1 GSE134809_68  713       356          3.0855540 \n",
       "GSE134809_68_AAACATACCGTCTC-1 GSE134809_68  544       290          3.8602941 "
      ]
     },
     "metadata": {},
     "output_type": "display_data"
    }
   ],
   "source": [
    "inf_data[[\"percent.mt\"]] <- PercentageFeatureSet(inf_data, pattern = \"^MT-\")\n",
    "uninf_data[[\"percent.mt\"]] <- PercentageFeatureSet(uninf_data, pattern = \"^MT-\")\n",
    "head(uninf_data@meta.data, 5)"
   ]
  },
  {
   "cell_type": "code",
   "execution_count": 12,
   "metadata": {},
   "outputs": [],
   "source": [
    "epitherial <- c('PLA2G2A', 'CLCA1', 'REG4', 'S100A14', 'ITLN1', 'ELF3', 'PIGR', 'EPCAM', 'REG1B', 'REG1A', 'REG3A', \n",
    "                'FABP1', 'RBP2', 'SST', 'FABP2', 'SPINK1', 'FABP6', 'AGR2', 'AGR3', 'CLDN3', 'CLDN4', 'DEFA6', 'DEFA5', \n",
    "                'SPINK4', 'ALDOB', 'LCN2', 'KRT8', 'KRT18', 'TSPAN8', 'OLFM4', 'GPX2', 'IFI27', 'PHGR1', 'MT1G',\n",
    "                'CLDN7', 'KRT19', 'FXYD3', 'LGALS4', 'FCGBP', 'TFF3', 'TFF1')"
   ]
  },
  {
   "cell_type": "code",
   "execution_count": 13,
   "metadata": {
    "scrolled": true
   },
   "outputs": [
    {
     "data": {
      "text/html": [
       "TRUE"
      ],
      "text/latex": [
       "TRUE"
      ],
      "text/markdown": [
       "TRUE"
      ],
      "text/plain": [
       "[1] TRUE"
      ]
     },
     "metadata": {},
     "output_type": "display_data"
    }
   ],
   "source": [
    "#All genes must be present to avoid errors\n",
    "all(epitherial %in% rownames(inf_data))"
   ]
  },
  {
   "cell_type": "code",
   "execution_count": 14,
   "metadata": {},
   "outputs": [
    {
     "data": {
      "text/html": [
       "<table>\n",
       "<caption>A data.frame: 5 × 5</caption>\n",
       "<thead>\n",
       "\t<tr><th></th><th scope=col>orig.ident</th><th scope=col>nCount_RNA</th><th scope=col>nFeature_RNA</th><th scope=col>percent.mt</th><th scope=col>percent.ep</th></tr>\n",
       "\t<tr><th></th><th scope=col>&lt;chr&gt;</th><th scope=col>&lt;dbl&gt;</th><th scope=col>&lt;int&gt;</th><th scope=col>&lt;dbl&gt;</th><th scope=col>&lt;dbl&gt;</th></tr>\n",
       "</thead>\n",
       "<tbody>\n",
       "\t<tr><th scope=row>GSE134809_68_AAACATACACCCTC-1</th><td>GSE134809_68</td><td> 659</td><td>268</td><td>0.7587253</td><td>0</td></tr>\n",
       "\t<tr><th scope=row>GSE134809_68_AAACATACAGACTC-1</th><td>GSE134809_68</td><td> 717</td><td>288</td><td>1.6736402</td><td>0</td></tr>\n",
       "\t<tr><th scope=row>GSE134809_68_AAACATACCAACTG-1</th><td>GSE134809_68</td><td>2124</td><td>537</td><td>2.7306968</td><td>0</td></tr>\n",
       "\t<tr><th scope=row>GSE134809_68_AAACATACCCAACA-1</th><td>GSE134809_68</td><td> 713</td><td>356</td><td>3.0855540</td><td>0</td></tr>\n",
       "\t<tr><th scope=row>GSE134809_68_AAACATACCGTCTC-1</th><td>GSE134809_68</td><td> 544</td><td>290</td><td>3.8602941</td><td>0</td></tr>\n",
       "</tbody>\n",
       "</table>\n"
      ],
      "text/latex": [
       "A data.frame: 5 × 5\n",
       "\\begin{tabular}{r|lllll}\n",
       "  & orig.ident & nCount\\_RNA & nFeature\\_RNA & percent.mt & percent.ep\\\\\n",
       "  & <chr> & <dbl> & <int> & <dbl> & <dbl>\\\\\n",
       "\\hline\n",
       "\tGSE134809\\_68\\_AAACATACACCCTC-1 & GSE134809\\_68 &  659 & 268 & 0.7587253 & 0\\\\\n",
       "\tGSE134809\\_68\\_AAACATACAGACTC-1 & GSE134809\\_68 &  717 & 288 & 1.6736402 & 0\\\\\n",
       "\tGSE134809\\_68\\_AAACATACCAACTG-1 & GSE134809\\_68 & 2124 & 537 & 2.7306968 & 0\\\\\n",
       "\tGSE134809\\_68\\_AAACATACCCAACA-1 & GSE134809\\_68 &  713 & 356 & 3.0855540 & 0\\\\\n",
       "\tGSE134809\\_68\\_AAACATACCGTCTC-1 & GSE134809\\_68 &  544 & 290 & 3.8602941 & 0\\\\\n",
       "\\end{tabular}\n"
      ],
      "text/markdown": [
       "\n",
       "A data.frame: 5 × 5\n",
       "\n",
       "| <!--/--> | orig.ident &lt;chr&gt; | nCount_RNA &lt;dbl&gt; | nFeature_RNA &lt;int&gt; | percent.mt &lt;dbl&gt; | percent.ep &lt;dbl&gt; |\n",
       "|---|---|---|---|---|---|\n",
       "| GSE134809_68_AAACATACACCCTC-1 | GSE134809_68 |  659 | 268 | 0.7587253 | 0 |\n",
       "| GSE134809_68_AAACATACAGACTC-1 | GSE134809_68 |  717 | 288 | 1.6736402 | 0 |\n",
       "| GSE134809_68_AAACATACCAACTG-1 | GSE134809_68 | 2124 | 537 | 2.7306968 | 0 |\n",
       "| GSE134809_68_AAACATACCCAACA-1 | GSE134809_68 |  713 | 356 | 3.0855540 | 0 |\n",
       "| GSE134809_68_AAACATACCGTCTC-1 | GSE134809_68 |  544 | 290 | 3.8602941 | 0 |\n",
       "\n"
      ],
      "text/plain": [
       "                              orig.ident   nCount_RNA nFeature_RNA percent.mt\n",
       "GSE134809_68_AAACATACACCCTC-1 GSE134809_68  659       268          0.7587253 \n",
       "GSE134809_68_AAACATACAGACTC-1 GSE134809_68  717       288          1.6736402 \n",
       "GSE134809_68_AAACATACCAACTG-1 GSE134809_68 2124       537          2.7306968 \n",
       "GSE134809_68_AAACATACCCAACA-1 GSE134809_68  713       356          3.0855540 \n",
       "GSE134809_68_AAACATACCGTCTC-1 GSE134809_68  544       290          3.8602941 \n",
       "                              percent.ep\n",
       "GSE134809_68_AAACATACACCCTC-1 0         \n",
       "GSE134809_68_AAACATACAGACTC-1 0         \n",
       "GSE134809_68_AAACATACCAACTG-1 0         \n",
       "GSE134809_68_AAACATACCCAACA-1 0         \n",
       "GSE134809_68_AAACATACCGTCTC-1 0         "
      ]
     },
     "metadata": {},
     "output_type": "display_data"
    }
   ],
   "source": [
    "inf_data[[\"percent.ep\"]] <- PercentageFeatureSet(inf_data, features  = epitherial)\n",
    "uninf_data[[\"percent.ep\"]] <- PercentageFeatureSet(uninf_data, features  = epitherial)\n",
    "head(uninf_data@meta.data, 5)"
   ]
  },
  {
   "cell_type": "code",
   "execution_count": 15,
   "metadata": {},
   "outputs": [],
   "source": [
    "hemo <- c(\"HBB\",\"HBA1\",\"HBA2\")"
   ]
  },
  {
   "cell_type": "code",
   "execution_count": 16,
   "metadata": {
    "scrolled": true
   },
   "outputs": [
    {
     "data": {
      "text/html": [
       "TRUE"
      ],
      "text/latex": [
       "TRUE"
      ],
      "text/markdown": [
       "TRUE"
      ],
      "text/plain": [
       "[1] TRUE"
      ]
     },
     "metadata": {},
     "output_type": "display_data"
    }
   ],
   "source": [
    "#All genes must be present to avoid errors\n",
    "all(hemo %in% rownames(inf_data))"
   ]
  },
  {
   "cell_type": "code",
   "execution_count": 17,
   "metadata": {},
   "outputs": [
    {
     "data": {
      "text/html": [
       "<table>\n",
       "<caption>A data.frame: 5 × 6</caption>\n",
       "<thead>\n",
       "\t<tr><th></th><th scope=col>orig.ident</th><th scope=col>nCount_RNA</th><th scope=col>nFeature_RNA</th><th scope=col>percent.mt</th><th scope=col>percent.ep</th><th scope=col>percent.he</th></tr>\n",
       "\t<tr><th></th><th scope=col>&lt;chr&gt;</th><th scope=col>&lt;dbl&gt;</th><th scope=col>&lt;int&gt;</th><th scope=col>&lt;dbl&gt;</th><th scope=col>&lt;dbl&gt;</th><th scope=col>&lt;dbl&gt;</th></tr>\n",
       "</thead>\n",
       "<tbody>\n",
       "\t<tr><th scope=row>GSE134809_68_AAACATACACCCTC-1</th><td>GSE134809_68</td><td> 659</td><td>268</td><td>0.7587253</td><td>0</td><td>0</td></tr>\n",
       "\t<tr><th scope=row>GSE134809_68_AAACATACAGACTC-1</th><td>GSE134809_68</td><td> 717</td><td>288</td><td>1.6736402</td><td>0</td><td>0</td></tr>\n",
       "\t<tr><th scope=row>GSE134809_68_AAACATACCAACTG-1</th><td>GSE134809_68</td><td>2124</td><td>537</td><td>2.7306968</td><td>0</td><td>0</td></tr>\n",
       "\t<tr><th scope=row>GSE134809_68_AAACATACCCAACA-1</th><td>GSE134809_68</td><td> 713</td><td>356</td><td>3.0855540</td><td>0</td><td>0</td></tr>\n",
       "\t<tr><th scope=row>GSE134809_68_AAACATACCGTCTC-1</th><td>GSE134809_68</td><td> 544</td><td>290</td><td>3.8602941</td><td>0</td><td>0</td></tr>\n",
       "</tbody>\n",
       "</table>\n"
      ],
      "text/latex": [
       "A data.frame: 5 × 6\n",
       "\\begin{tabular}{r|llllll}\n",
       "  & orig.ident & nCount\\_RNA & nFeature\\_RNA & percent.mt & percent.ep & percent.he\\\\\n",
       "  & <chr> & <dbl> & <int> & <dbl> & <dbl> & <dbl>\\\\\n",
       "\\hline\n",
       "\tGSE134809\\_68\\_AAACATACACCCTC-1 & GSE134809\\_68 &  659 & 268 & 0.7587253 & 0 & 0\\\\\n",
       "\tGSE134809\\_68\\_AAACATACAGACTC-1 & GSE134809\\_68 &  717 & 288 & 1.6736402 & 0 & 0\\\\\n",
       "\tGSE134809\\_68\\_AAACATACCAACTG-1 & GSE134809\\_68 & 2124 & 537 & 2.7306968 & 0 & 0\\\\\n",
       "\tGSE134809\\_68\\_AAACATACCCAACA-1 & GSE134809\\_68 &  713 & 356 & 3.0855540 & 0 & 0\\\\\n",
       "\tGSE134809\\_68\\_AAACATACCGTCTC-1 & GSE134809\\_68 &  544 & 290 & 3.8602941 & 0 & 0\\\\\n",
       "\\end{tabular}\n"
      ],
      "text/markdown": [
       "\n",
       "A data.frame: 5 × 6\n",
       "\n",
       "| <!--/--> | orig.ident &lt;chr&gt; | nCount_RNA &lt;dbl&gt; | nFeature_RNA &lt;int&gt; | percent.mt &lt;dbl&gt; | percent.ep &lt;dbl&gt; | percent.he &lt;dbl&gt; |\n",
       "|---|---|---|---|---|---|---|\n",
       "| GSE134809_68_AAACATACACCCTC-1 | GSE134809_68 |  659 | 268 | 0.7587253 | 0 | 0 |\n",
       "| GSE134809_68_AAACATACAGACTC-1 | GSE134809_68 |  717 | 288 | 1.6736402 | 0 | 0 |\n",
       "| GSE134809_68_AAACATACCAACTG-1 | GSE134809_68 | 2124 | 537 | 2.7306968 | 0 | 0 |\n",
       "| GSE134809_68_AAACATACCCAACA-1 | GSE134809_68 |  713 | 356 | 3.0855540 | 0 | 0 |\n",
       "| GSE134809_68_AAACATACCGTCTC-1 | GSE134809_68 |  544 | 290 | 3.8602941 | 0 | 0 |\n",
       "\n"
      ],
      "text/plain": [
       "                              orig.ident   nCount_RNA nFeature_RNA percent.mt\n",
       "GSE134809_68_AAACATACACCCTC-1 GSE134809_68  659       268          0.7587253 \n",
       "GSE134809_68_AAACATACAGACTC-1 GSE134809_68  717       288          1.6736402 \n",
       "GSE134809_68_AAACATACCAACTG-1 GSE134809_68 2124       537          2.7306968 \n",
       "GSE134809_68_AAACATACCCAACA-1 GSE134809_68  713       356          3.0855540 \n",
       "GSE134809_68_AAACATACCGTCTC-1 GSE134809_68  544       290          3.8602941 \n",
       "                              percent.ep percent.he\n",
       "GSE134809_68_AAACATACACCCTC-1 0          0         \n",
       "GSE134809_68_AAACATACAGACTC-1 0          0         \n",
       "GSE134809_68_AAACATACCAACTG-1 0          0         \n",
       "GSE134809_68_AAACATACCCAACA-1 0          0         \n",
       "GSE134809_68_AAACATACCGTCTC-1 0          0         "
      ]
     },
     "metadata": {},
     "output_type": "display_data"
    }
   ],
   "source": [
    "inf_data[[\"percent.he\"]] <- PercentageFeatureSet(inf_data, features  = hemo)\n",
    "uninf_data[[\"percent.he\"]] <- PercentageFeatureSet(uninf_data, features  = hemo)\n",
    "head(uninf_data@meta.data, 5)"
   ]
  },
  {
   "cell_type": "markdown",
   "metadata": {},
   "source": [
    "### filter out cell-barcodes"
   ]
  },
  {
   "cell_type": "code",
   "execution_count": 18,
   "metadata": {},
   "outputs": [],
   "source": [
    "inf_data <- subset(inf_data, subset = nCount_RNA > 800 & percent.ep < 1 & percent.mt < 25 & percent.he < 10 )\n",
    "uninf_data <- subset(uninf_data, subset = nCount_RNA > 800 & percent.ep < 1 & percent.mt < 25 & percent.he < 10 )"
   ]
  },
  {
   "cell_type": "markdown",
   "metadata": {},
   "source": [
    "# Data integration"
   ]
  },
  {
   "cell_type": "code",
   "execution_count": 22,
   "metadata": {},
   "outputs": [],
   "source": [
    "inf_data[['split']] <- 'inf'\n",
    "uninf_data[['split']] <- 'uninf'"
   ]
  },
  {
   "cell_type": "code",
   "execution_count": 23,
   "metadata": {},
   "outputs": [
    {
     "data": {
      "text/plain": [
       "An object of class Seurat \n",
       "22450 features across 74414 samples within 1 assay \n",
       "Active assay: RNA (22450 features, 0 variable features)"
      ]
     },
     "metadata": {},
     "output_type": "display_data"
    }
   ],
   "source": [
    "com <- merge(inf_data, y = uninf_data, add.cell.ids = c(\"inf\", \"uninf\"), project = \"infvsuninf\")\n",
    "com"
   ]
  },
  {
   "cell_type": "code",
   "execution_count": 26,
   "metadata": {},
   "outputs": [],
   "source": [
    "# split the dataset into a list of two seurat objects\n",
    "com.list <- SplitObject(com, split.by = \"split\")\n",
    "\n",
    "# normalize and identify variable features for each dataset independently\n",
    "com.list <- lapply(X = com.list, FUN = function(x) {\n",
    "    x <- NormalizeData(x)\n",
    "    x <- FindVariableFeatures(x, selection.method = \"vst\", nfeatures = 2000)\n",
    "})\n",
    "\n",
    "# select features that are repeatedly variable across datasets for integration\n",
    "features <- SelectIntegrationFeatures(object.list = com.list)"
   ]
  },
  {
   "cell_type": "markdown",
   "metadata": {},
   "source": [
    "### perform integration"
   ]
  },
  {
   "cell_type": "code",
   "execution_count": null,
   "metadata": {},
   "outputs": [],
   "source": [
    "immune.anchors <- FindIntegrationAnchors(object.list = com.list, anchor.features = features)"
   ]
  },
  {
   "cell_type": "code",
   "execution_count": null,
   "metadata": {},
   "outputs": [],
   "source": [
    "# this command creates an 'integrated' data assay\n",
    "immune.combined <- IntegrateData(anchorset = immune.anchors)"
   ]
  },
  {
   "cell_type": "code",
   "execution_count": null,
   "metadata": {},
   "outputs": [],
   "source": [
    "immune.combined"
   ]
  },
  {
   "cell_type": "code",
   "execution_count": null,
   "metadata": {},
   "outputs": [],
   "source": [
    "saveRDS(immune.combined, file = \"./immune_intergraion_qc.rds\")"
   ]
  }
 ],
 "metadata": {
  "kernelspec": {
   "display_name": "R",
   "language": "R",
   "name": "ir"
  },
  "language_info": {
   "codemirror_mode": "r",
   "file_extension": ".r",
   "mimetype": "text/x-r-source",
   "name": "R",
   "pygments_lexer": "r",
   "version": "4.0.3"
  }
 },
 "nbformat": 4,
 "nbformat_minor": 4
}
